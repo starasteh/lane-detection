{
 "cells": [
  {
   "cell_type": "code",
   "execution_count": null,
   "metadata": {},
   "outputs": [],
   "source": [
    "%load_ext autoreload"
   ]
  },
  {
   "cell_type": "code",
   "execution_count": null,
   "metadata": {},
   "outputs": [],
   "source": [
    "%autoreload 2"
   ]
  },
  {
   "cell_type": "code",
   "execution_count": null,
   "metadata": {},
   "outputs": [],
   "source": [
    "# System Modules\n",
    "import matplotlib.pyplot as plt\n",
    "import skvideo.io\n",
    "\n",
    "# Deep Learning Modules\n",
    "from torch.utils.data import Dataset\n",
    "\n",
    "# User Defined Modules\n",
    "import specs\n",
    "from data.Img_dataset import *\n",
    "from data.Video_dataset import Video_dataset\n",
    "from models.UNet import UNet\n",
    "from serde import *\n",
    "from Prediction import Prediction\n",
    "from Training import Mode\n",
    "\n",
    "#Remove warnings\n",
    "import warnings\n",
    "warnings.filterwarnings('ignore')"
   ]
  },
  {
   "cell_type": "code",
   "execution_count": null,
   "metadata": {},
   "outputs": [],
   "source": [
    "params = open_experiment('SGD_265TN_1500TP_lr1e2_ltnwr3')\n"
   ]
  },
  {
   "cell_type": "code",
   "execution_count": null,
   "metadata": {},
   "outputs": [],
   "source": [
    "cfg_path=params['cfg_path']\n",
    "predicter=Prediction(cfg_path)"
   ]
  },
  {
   "cell_type": "code",
   "execution_count": null,
   "metadata": {},
   "outputs": [],
   "source": [
    "predicter.setup_model(model=UNet)"
   ]
  },
  {
   "cell_type": "code",
   "execution_count": null,
   "metadata": {},
   "outputs": [],
   "source": [
    "# Generate test set from simulation and run model\n",
    "\n",
    "predict_dataset = Img_dataset(mode=Mode.PREDICT,dataset_name='TestSetPrediction', size=10, seed=234L,cfg_path=cfg_path)\n",
    "predict_loader = torch.utils.data.DataLoader(dataset=predict_dataset,\n",
    "                                                 batch_size=1,\n",
    "                                \n",
    "                                             shuffle=False, num_workers=2)\n",
    "\n",
    "\n",
    "predicter.predict(predict_loader)"
   ]
  },
  {
   "cell_type": "code",
   "execution_count": null,
   "metadata": {},
   "outputs": [],
   "source": [
    "# Generate test set from real True_Negative_Dataset_Test and run model\n",
    "predict_dataset = Img_dataset(mode=Mode.PREDICT,dataset_name='True_Negative_Dataset_Test', size=1, seed=234L,cfg_path=cfg_path)\n",
    "\n",
    "predict_loader = torch.utils.data.DataLoader(dataset=predict_dataset,\n",
    "                                                 batch_size=1,\n",
    "                                                 shuffle=False, num_workers=2)\n",
    "predicter.predict(predict_loader)"
   ]
  },
  {
   "cell_type": "code",
   "execution_count": null,
   "metadata": {},
   "outputs": [],
   "source": [
    "#Generate test set from real images and run model\n",
    "\n",
    "predict_dataset_real=Img_dataset(mode=Mode.PREDICT,dataset_name='Real_Road_Test', size=15, seed=234L,cfg_path=cfg_path)\n",
    "\n",
    "predict_loader_real = torch.utils.data.DataLoader(dataset=predict_dataset_real,\n",
    "                                               batch_size=2,\n",
    "                                               shuffle=False,num_workers=2)\n",
    "\n",
    "\n",
    "predicter.predict(predict_loader_real)"
   ]
  },
  {
   "cell_type": "code",
   "execution_count": null,
   "metadata": {},
   "outputs": [],
   "source": [
    "cfg_path=params['cfg_path']\n",
    "video_predict_dataset=Video_dataset(folder_name='Video')\n",
    "#video_predict_dataset=VideoDataset()\n",
    "video_loader=torch.utils.data.DataLoader(dataset=video_predict_dataset,\n",
    "                                               batch_size=8,\n",
    "                                               shuffle=False)\n",
    "\n",
    "predicter.predict(video_loader,visualize=False,save_video=True)"
   ]
  }
 ],
 "metadata": {
  "kernelspec": {
   "display_name": "Python 3",
   "language": "python",
   "name": "python3"
  },
  "language_info": {
   "codemirror_mode": {
    "name": "ipython",
    "version": 3
   },
   "file_extension": ".py",
   "mimetype": "text/x-python",
   "name": "python",
   "nbconvert_exporter": "python",
   "pygments_lexer": "ipython3",
   "version": "3.7.3"
  }
 },
 "nbformat": 4,
 "nbformat_minor": 2
}
